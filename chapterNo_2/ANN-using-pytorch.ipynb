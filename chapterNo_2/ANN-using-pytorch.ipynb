{
 "cells": [
  {
   "cell_type": "code",
   "execution_count": 17,
   "metadata": {},
   "outputs": [
    {
     "data": {
      "text/plain": [
       "(torch.Size([4, 2]), torch.Size([4, 1]))"
      ]
     },
     "execution_count": 17,
     "metadata": {},
     "output_type": "execute_result"
    }
   ],
   "source": [
    "import torch\n",
    "\n",
    "\n",
    "x = [[1,2], [3,4],[5,6],[7,8]]\n",
    "y = [[3],[7],[11],[15]]\n",
    "\n",
    "X = torch.tensor(x).float()\n",
    "Y = torch.tensor(y).float()\n",
    "X.shape, Y.shape\n"
   ]
  },
  {
   "cell_type": "code",
   "execution_count": 18,
   "metadata": {},
   "outputs": [],
   "source": [
    "# Registor tensors into cuda if available otherwise cpu\n",
    "device = 'cuda' if torch.cuda.is_available() else 'cpu'\n",
    "\n",
    "X = X.to(device)\n",
    "Y = Y.to(device)\n"
   ]
  },
  {
   "cell_type": "code",
   "execution_count": 19,
   "metadata": {},
   "outputs": [],
   "source": [
    "# lets create a module class for ANN module\n",
    "from torch import nn\n",
    "\n",
    "class MyNeuralNet(nn.Module):\n",
    "    def __init__(self):\n",
    "        super().__init__()\n",
    "        self.input_to_hidden_layer = nn.Linear(2,8)\n",
    "        self.hidden_layer_activation = nn.ReLU()\n",
    "        self.hidden_to_output_layer = nn.Linear(8,1)\n",
    "    \n",
    "    def forward(self, x):\n",
    "        x = self.input_to_hidden_layer(x)\n",
    "        x = self.hidden_layer_activation(x)\n",
    "        x = self.hidden_to_output_layer(x)\n",
    "        return x\n"
   ]
  },
  {
   "cell_type": "code",
   "execution_count": 20,
   "metadata": {},
   "outputs": [
    {
     "data": {
      "text/plain": [
       "MyNeuralNet(\n",
       "  (input_to_hidden_layer): Linear(in_features=2, out_features=8, bias=True)\n",
       "  (hidden_layer_activation): ReLU()\n",
       "  (hidden_to_output_layer): Linear(in_features=8, out_features=1, bias=True)\n",
       ")"
      ]
     },
     "execution_count": 20,
     "metadata": {},
     "output_type": "execute_result"
    }
   ],
   "source": [
    "# seed\n",
    "torch.manual_seed(0)\n",
    "\n",
    "model = MyNeuralNet().to(device)\n",
    "model"
   ]
  },
  {
   "cell_type": "code",
   "execution_count": 21,
   "metadata": {},
   "outputs": [
    {
     "name": "stdout",
     "output_type": "stream",
     "text": [
      "Parameter containing:\n",
      "tensor([[-0.0053,  0.3793],\n",
      "        [-0.5820, -0.5204],\n",
      "        [-0.2723,  0.1896],\n",
      "        [-0.0140,  0.5607],\n",
      "        [-0.0628,  0.1871],\n",
      "        [-0.2137, -0.1390],\n",
      "        [-0.6755, -0.4683],\n",
      "        [-0.2915,  0.0262]], requires_grad=True)\n",
      "Parameter containing:\n",
      "tensor([ 0.2795,  0.4243, -0.4794, -0.3079,  0.2568,  0.5872, -0.1455,  0.5291],\n",
      "       requires_grad=True)\n",
      "Parameter containing:\n",
      "tensor([[-0.0570,  0.0374,  0.3201, -0.3280, -0.2226, -0.0895, -0.1378,  0.3055]],\n",
      "       requires_grad=True)\n",
      "Parameter containing:\n",
      "tensor([-0.2292], requires_grad=True)\n"
     ]
    }
   ],
   "source": [
    "for param in model.parameters():\n",
    "    print(param)"
   ]
  },
  {
   "cell_type": "code",
   "execution_count": 22,
   "metadata": {},
   "outputs": [
    {
     "name": "stdout",
     "output_type": "stream",
     "text": [
      "tensor(132.0424, grad_fn=<MseLossBackward0>)\n"
     ]
    }
   ],
   "source": [
    "loss_fn = nn.MSELoss()\n",
    "_Y = model(X)\n",
    "\n",
    "loss_value = loss_fn(_Y, Y)\n",
    "print(loss_value)"
   ]
  },
  {
   "cell_type": "code",
   "execution_count": 23,
   "metadata": {},
   "outputs": [],
   "source": [
    "# loss(prediction_value, truth_value)\n",
    "# optimizer use to update the paramters and minimize the loss\n",
    "\n",
    "from torch.optim import SGD\n",
    "\n",
    "optimizer = SGD(model.parameters(), lr=0.001)\n"
   ]
  },
  {
   "cell_type": "code",
   "execution_count": 24,
   "metadata": {},
   "outputs": [],
   "source": [
    "# loss_history = []\n",
    "# for _ in range(50):\n",
    "#     optimizer.zero_grad()\n",
    "#     loss = loss_fn(model(X), Y)\n",
    "#     loss.backward()\n",
    "#     optimizer.step()\n",
    "#     loss_history.append(loss.detach().numpy())"
   ]
  },
  {
   "cell_type": "code",
   "execution_count": 25,
   "metadata": {},
   "outputs": [],
   "source": [
    "# loss_history"
   ]
  },
  {
   "cell_type": "code",
   "execution_count": 26,
   "metadata": {},
   "outputs": [],
   "source": [
    "# import matplotlib.pyplot as plt\n",
    "\n",
    "# %matplotlib inline\n",
    "\n",
    "# plt.plot(loss_history)\n",
    "# plt.title(\"Loss variation over epoches\")\n",
    "# plt.xlabel('Epochs')\n",
    "# plt.ylabel('Loss value')"
   ]
  },
  {
   "cell_type": "code",
   "execution_count": 27,
   "metadata": {},
   "outputs": [],
   "source": [
    "from torch.utils.data import Dataset, DataLoader\n",
    "import torch\n",
    "from torch import nn\n",
    "\n",
    "class MyDateset(Dataset):\n",
    "    def __init__(self, x, y):\n",
    "        self.x = torch.tensor(x).float()\n",
    "        self.y = torch.tensor(y).float()\n",
    "    \n",
    "    def __len__(self):\n",
    "        return len(self.x)\n",
    "    \n",
    "    def __getitem__(self, ix):\n",
    "        return self.x[ix], self.y[ix]"
   ]
  },
  {
   "cell_type": "code",
   "execution_count": 28,
   "metadata": {},
   "outputs": [],
   "source": [
    "ds = MyDateset(x, y)\n",
    "dl = DataLoader(ds, batch_size=2, shuffle=True)"
   ]
  },
  {
   "cell_type": "code",
   "execution_count": 29,
   "metadata": {},
   "outputs": [
    {
     "name": "stdout",
     "output_type": "stream",
     "text": [
      "tensor([[5., 6.],\n",
      "        [7., 8.]]) tensor([[11.],\n",
      "        [15.]])\n",
      "tensor([[1., 2.],\n",
      "        [3., 4.]]) tensor([[3.],\n",
      "        [7.]])\n"
     ]
    }
   ],
   "source": [
    "for (i, o) in dl:\n",
    "    print(i, o)"
   ]
  },
  {
   "cell_type": "code",
   "execution_count": 30,
   "metadata": {},
   "outputs": [
    {
     "name": "stdout",
     "output_type": "stream",
     "text": [
      "0.47051382064819336\n"
     ]
    }
   ],
   "source": [
    "# complete weights update loop\n",
    "import time\n",
    "\n",
    "loss_history = []\n",
    "start = time.time()\n",
    "for _ in range(50):\n",
    "    for (s,p) in dl:\n",
    "        optimizer.zero_grad()\n",
    "        loss = loss_fn(model(s), p)\n",
    "        loss.backward()\n",
    "        optimizer.step()\n",
    "        loss_history.append(loss.detach().numpy())\n",
    "\n",
    "end = time.time()\n",
    "\n",
    "print(end - start)"
   ]
  },
  {
   "cell_type": "code",
   "execution_count": 31,
   "metadata": {},
   "outputs": [
    {
     "data": {
      "image/png": "[encoded data removed]",
      "text/plain": [
       "<Figure size 640x480 with 1 Axes>"
      ]
     },
     "metadata": {},
     "output_type": "display_data"
    }
   ],
   "source": [
    "import matplotlib.pyplot as plt\n",
    "\n",
    "\n",
    "plt.plot(loss_history)\n",
    "plt.title(\"Loss variation across epoches\")\n",
    "plt.xlabel('epoches')\n",
    "plt.ylabel(\"loss values\")\n",
    "plt.show()"
   ]
  },
  {
   "cell_type": "code",
   "execution_count": 40,
   "metadata": {},
   "outputs": [
    {
     "data": {
      "text/plain": [
       "OrderedDict([('0.weight',\n",
       "              tensor([[ 0.1629,  0.1389],\n",
       "                      [-0.5250,  0.1177],\n",
       "                      [ 0.3012,  0.2799],\n",
       "                      [-0.0890, -0.5797],\n",
       "                      [-0.1090,  0.2456],\n",
       "                      [-0.2580,  0.2684],\n",
       "                      [ 0.4709, -0.3692],\n",
       "                      [ 0.0070,  0.2924]])),\n",
       "             ('0.bias',\n",
       "              tensor([ 0.0554,  0.0591,  0.0883, -0.5559,  0.0556,  0.4897,  0.6372,  0.4156])),\n",
       "             ('2.weight',\n",
       "              tensor([[ 0.0474,  0.1651, -0.1720, -0.2930, -0.3040,  0.3527,  0.2244, -0.2444]])),\n",
       "             ('2.bias', tensor([0.1383]))])"
      ]
     },
     "execution_count": 40,
     "metadata": {},
     "output_type": "execute_result"
    }
   ],
   "source": [
    "model.state_dict()"
   ]
  },
  {
   "cell_type": "code",
   "execution_count": 41,
   "metadata": {},
   "outputs": [],
   "source": [
    "torch.save(model.to('cpu').state_dict(), 'mymodel.pth')"
   ]
  },
  {
   "cell_type": "code",
   "execution_count": 42,
   "metadata": {},
   "outputs": [
    {
     "data": {
      "text/plain": [
       "<All keys matched successfully>"
      ]
     },
     "execution_count": 42,
     "metadata": {},
     "output_type": "execute_result"
    }
   ],
   "source": [
    "model = nn.Sequential(\n",
    "    nn.Linear(2,8),\n",
    "    nn.ReLU(),\n",
    "    nn.Linear(8,1)\n",
    ").to(device)\n",
    "\n",
    "\n",
    "stat_dict = torch.load('mymodel.pth')\n",
    "model.load_state_dict(stat_dict)"
   ]
  },
  {
   "cell_type": "code",
   "execution_count": 43,
   "metadata": {},
   "outputs": [],
   "source": [
    "val = [[8,9],[10,11],[1.5,2.5]]"
   ]
  },
  {
   "cell_type": "code",
   "execution_count": 44,
   "metadata": {},
   "outputs": [
    {
     "data": {
      "text/plain": [
       "tensor([[-1.2436],\n",
       "        [-1.5913],\n",
       "        [-0.1136]], grad_fn=<AddmmBackward0>)"
      ]
     },
     "execution_count": 44,
     "metadata": {},
     "output_type": "execute_result"
    }
   ],
   "source": [
    "model.to(device)\n",
    "model(torch.tensor(val).float().to(device))"
   ]
  },
  {
   "cell_type": "code",
   "execution_count": null,
   "metadata": {},
   "outputs": [],
   "source": []
  }
 ],
 "metadata": {
  "kernelspec": {
   "display_name": "EndtoEndML",
   "language": "python",
   "name": "python3"
  },
  "language_info": {
   "codemirror_mode": {
    "name": "ipython",
    "version": 3
   },
   "file_extension": ".py",
   "mimetype": "text/x-python",
   "name": "python",
   "nbconvert_exporter": "python",
   "pygments_lexer": "ipython3",
   "version": "3.8.0"
  }
 },
 "nbformat": 4,
 "nbformat_minor": 2
}
